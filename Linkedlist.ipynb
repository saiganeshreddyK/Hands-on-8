{
 "cells": [
  {
   "cell_type": "code",
   "execution_count": 1,
   "id": "4f969b64-ac3f-4883-9de0-36c78d97fe55",
   "metadata": {},
   "outputs": [
    {
     "name": "stdout",
     "output_type": "stream",
     "text": [
      "5 4 3 2 1 \n",
      "Deleted element: 5\n",
      "4 3 2 1 \n"
     ]
    }
   ],
   "source": [
    "class Node:\n",
    "    def __init__(self, data):\n",
    "        self.data = data\n",
    "        self.next = None\n",
    "\n",
    "\n",
    "class LinkedList:\n",
    "    def __init__(self):\n",
    "        self.head = None\n",
    "\n",
    "    def is_empty(self):\n",
    "        return self.head is None\n",
    "\n",
    "    def insert_front(self, data):\n",
    "        new_node = Node(data)\n",
    "        new_node.next = self.head\n",
    "        self.head = new_node\n",
    "\n",
    "    def delete_front(self):\n",
    "        if self.is_empty():\n",
    "            print(\"List is empty\")\n",
    "            return None\n",
    "        data = self.head.data\n",
    "        self.head = self.head.next\n",
    "        return data\n",
    "\n",
    "    def display(self):\n",
    "        current = self.head\n",
    "        while current:\n",
    "            print(current.data, end=\" \")\n",
    "            current = current.next\n",
    "        print()\n",
    "\n",
    "\n",
    "# Example usage:\n",
    "linked_list = LinkedList()\n",
    "linked_list.insert_front(1)\n",
    "linked_list.insert_front(2)\n",
    "linked_list.insert_front(3)\n",
    "linked_list.insert_front(4)\n",
    "linked_list.insert_front(5)\n",
    "linked_list.display()  \n",
    "print(\"Deleted element:\", linked_list.delete_front())\n",
    "linked_list.display()  \n"
   ]
  }
 ],
 "metadata": {
  "kernelspec": {
   "display_name": "Python 3 (ipykernel)",
   "language": "python",
   "name": "python3"
  },
  "language_info": {
   "codemirror_mode": {
    "name": "ipython",
    "version": 3
   },
   "file_extension": ".py",
   "mimetype": "text/x-python",
   "name": "python",
   "nbconvert_exporter": "python",
   "pygments_lexer": "ipython3",
   "version": "3.12.1"
  }
 },
 "nbformat": 4,
 "nbformat_minor": 5
}
