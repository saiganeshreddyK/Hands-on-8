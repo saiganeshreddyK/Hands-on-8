{
 "cells": [
  {
   "cell_type": "markdown",
   "id": "4f6cfcec-73bd-4947-b5d2-8ee26e07bebc",
   "metadata": {},
   "source": [
    "#### Leverage your implementation of quicksort to implement the ith order statistic. Demonstrate it's working via an example."
   ]
  },
  {
   "cell_type": "code",
   "execution_count": 2,
   "id": "b4f010e4-2a8b-498e-9ef5-2fc533c1095d",
   "metadata": {},
   "outputs": [
    {
     "name": "stdout",
     "output_type": "stream",
     "text": [
      "Sorted array: [5, 7, 8, 10, 11, 15, 17, 24, 45, 77]\n",
      "The 3th order statistic is: 8\n"
     ]
    }
   ],
   "source": [
    "def partition(arr, low, high):\n",
    "    pivot = arr[high]\n",
    "    i = low - 1\n",
    "    for j in range(low, high):\n",
    "        if arr[j] <= pivot:\n",
    "            i += 1\n",
    "            arr[i], arr[j] = arr[j], arr[i]\n",
    "    arr[i + 1], arr[high] = arr[high], arr[i + 1]\n",
    "    return i + 1\n",
    "\n",
    "def quicksort(arr, low, high):\n",
    "    if low < high:\n",
    "        pivot_index = partition(arr, low, high)\n",
    "        quicksort(arr, low, pivot_index - 1)\n",
    "        quicksort(arr, pivot_index + 1, high)\n",
    "\n",
    "def ith_order_statistic(arr, i):\n",
    "    if i < 0 or i >= len(arr):\n",
    "        return None\n",
    "    low = 0\n",
    "    high = len(arr) - 1\n",
    "    while True:\n",
    "        pivot_index = partition(arr, low, high)\n",
    "        k = pivot_index - low + 1\n",
    "        if i == k:\n",
    "            return arr[pivot_index]\n",
    "        elif i < k:\n",
    "            high = pivot_index - 1\n",
    "        else:\n",
    "            low = pivot_index + 1\n",
    "\n",
    "# Example \n",
    "arr = [45, 15, 10, 77, 17, 8, 11, 24, 5, 7]\n",
    "i = 3\n",
    "quicksort(arr, 0, len(arr) - 1)\n",
    "result = ith_order_statistic(arr, i)\n",
    "print(\"Sorted array:\", arr)\n",
    "print(f\"The {i}th order statistic is: {result}\")\n"
   ]
  }
 ],
 "metadata": {
  "kernelspec": {
   "display_name": "Python 3 (ipykernel)",
   "language": "python",
   "name": "python3"
  },
  "language_info": {
   "codemirror_mode": {
    "name": "ipython",
    "version": 3
   },
   "file_extension": ".py",
   "mimetype": "text/x-python",
   "name": "python",
   "nbconvert_exporter": "python",
   "pygments_lexer": "ipython3",
   "version": "3.12.1"
  }
 },
 "nbformat": 4,
 "nbformat_minor": 5
}
